{
 "cells": [
  {
   "cell_type": "code",
   "execution_count": 8,
   "id": "b92d27ae",
   "metadata": {},
   "outputs": [],
   "source": [
    "from Traitement_Data import generate_stats"
   ]
  },
  {
   "cell_type": "code",
   "execution_count": 9,
   "id": "2ead7937",
   "metadata": {},
   "outputs": [
    {
     "name": "stderr",
     "output_type": "stream",
     "text": [
      "C:\\Users\\Amrta\\Documents\\GitHub\\Projet_Annuel_5IABD\\Projet\\WatchBot\\python\\Traitement_Data\\generate_stats.py:830: UserWarning: FixedFormatter should only be used together with FixedLocator\n",
      "  ax.set_xticklabels(my_xticks,rotation=50)\n"
     ]
    },
    {
     "data": {
      "text/plain": [
       "'IMG:Traitement_Data/Graphes/user_2/graph_evolution_averagecalories_01-07-2021_142426.png'"
      ]
     },
     "execution_count": 9,
     "metadata": {},
     "output_type": "execute_result"
    }
   ],
   "source": [
    "r = generate_stats.actions(\"evolution_average\",'calories','05-05-2021 00:00','07-05-2021 15:00',2)\n",
    "r"
   ]
  },
  {
   "cell_type": "code",
   "execution_count": null,
   "id": "bb2fa28a",
   "metadata": {},
   "outputs": [],
   "source": []
  }
 ],
 "metadata": {
  "kernelspec": {
   "display_name": "Python 3",
   "language": "python",
   "name": "python3"
  },
  "language_info": {
   "codemirror_mode": {
    "name": "ipython",
    "version": 3
   },
   "file_extension": ".py",
   "mimetype": "text/x-python",
   "name": "python",
   "nbconvert_exporter": "python",
   "pygments_lexer": "ipython3",
   "version": "3.8.8"
  }
 },
 "nbformat": 4,
 "nbformat_minor": 5
}
