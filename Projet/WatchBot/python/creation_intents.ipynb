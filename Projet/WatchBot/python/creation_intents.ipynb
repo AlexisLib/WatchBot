{
 "cells": [
  {
   "cell_type": "code",
   "execution_count": 2,
   "metadata": {},
   "outputs": [],
   "source": [
    "import json\n",
    "\n",
    "data = {\"intents\": [\n",
    "        {\"tag\": \"bonjour\",\n",
    "         \"patterns\": [\"Salut\", \"Bonjour\", \"Hey\",\"Yo\",\"Hello\",\"hi\",\"bonsoir\",\"bjr\",\"bsr\"],\n",
    "         \"responses\": [\"Bonjour, comment puis-je vous aider?\", \"Heureux de vous revoir, que puis-je pour vous?\"],\n",
    "         \"context\": [\"\"]\n",
    "        },\n",
    "        {\"tag\": \"question\",\n",
    "         \"patterns\": [\"question\", \"besoin\", \"problème\",\"interrogation\"],\n",
    "         \"responses\": [\"Je suis à votre écoute\", \"Je suis à votre service\",\"Je suis à votre disposition\",\"Je vous répondrais du mieux que possible\",\"J'espère pouvoir vous aider\"],\n",
    "         \"context\": [\"\"]\n",
    "        },\n",
    "        {\"tag\": \"au revoir\",\n",
    "         \"patterns\": [\"Bye\", \"prochaine\", \"revoir\", \"Adieu\",\"A+\",\"ciao\",\"Tchao\",\"xau\"],\n",
    "         \"responses\": [\"J'espère vous avoir aidé, à la prochaine!\", \"Ce fut un plaisir, n'hésitez pas à revenir vers moi.\", \"Bonne journée, cordialement le meilleur chatbot\"],\n",
    "         \"context\": [\"\"]\n",
    "        },\n",
    "        {\"tag\": \"merci\",\n",
    "         \"patterns\": [\"Merci\", \"parfait\", \"aidé\", \"remercie\",\"sympa\"],\n",
    "         \"responses\": [\"Ce fut un plaisir de vous aider\"],\n",
    "         \"context\": [\"\"]\n",
    "        },\n",
    "        {\"tag\": \"VMA\",\n",
    "         \"patterns\": [\"vitesse\", \"VMA\", \"km/h\",\"aérobie\"],\n",
    "         \"responses\": [\"Pour vous apporter la réponse attendue, je vais avoir besoin de connaitre quelques informations. Veuillez m'indiquer la période voulue avec une date de début et date de fin (en comprenant des horaires).\",\"Merci, quel type de demande s'agit-il? Une moyenne, une valeur fixe, ou bien une visualisation graphique de l'évolution de la moyenne ou des valeurs fixes?\"],\n",
    "         \"context\": [\"\"]\n",
    "        },\n",
    "        {\"tag\": \"heartbeat\",\n",
    "         \"patterns\": [\"pouls\", \"cardiaque\", \"coeur\", \"essouflement\",\"essouflé\",\"battements\",\"respiration\"],\n",
    "         \"responses\": [\"Pour vous apporter la réponse attendue, je vais avoir besoin de connaitre quelques informations. Veuillez m'indiquer la période voulue avec une date de début et date de fin (en comprenant des horaires).\",\"Merci, quel type de demande s'agit-il? Une moyenne, une valeur fixe, ou bien une visualisation graphique de l'évolution de la moyenne ou des valeurs fixes?\"],\n",
    "         \"context\": [\"\"]\n",
    "        },\n",
    "        {\"tag\": \"steps\",\n",
    "         \"patterns\": [\"distance\", \"parcours\", \"réalisé\",\"essouflé\",\"parcourus\",\"km\",\"effectué\",\"pas\",\"steps\"],\n",
    "         \"responses\": [\"Pour vous apporter la réponse attendue, je vais avoir besoin de connaitre quelques informations. Veuillez m'indiquer la période voulue avec une date de début et date de fin (en comprenant des horaires).\",\"Merci, quel type de demande s'agit-il? Une moyenne, une valeur fixe, ou bien une visualisation graphique de l'évolution de la moyenne ou des valeurs fixes?\"],\n",
    "         \"context\": [\"\"]\n",
    "        },\n",
    "        {\"tag\": \"temperature\",\n",
    "         \"patterns\": [\"température\", \"chaleur corporelle\", \"°C\",\"celcius\",\"temperature\"],\n",
    "         \"responses\": [\"Pour vous apporter la réponse attendue, je vais avoir besoin de connaitre quelques informations. Veuillez m'indiquer la période voulue avec une date de début et date de fin (en comprenant des horaires).\",\"Merci, quel type de demande s'agit-il? Une moyenne, une valeur fixe, ou bien une visualisation graphique de l'évolution de la moyenne ou des valeurs fixes?\"],\n",
    "         \"context\": [\"\"]\n",
    "        },\n",
    "        {\"tag\": \"blood_pressure\",\n",
    "         \"patterns\": [\"sang\", \"pression\", \"artérielle\",\"artères\",\"sanguine\",\"sanguin\"],\n",
    "         \"responses\": [\"Pour vous apporter la réponse attendue, je vais avoir besoin de connaitre quelques informations. Veuillez m'indiquer la période voulue avec une date de début et date de fin (en comprenant des horaires).\",\"Merci, quel type de demande s'agit-il? Une moyenne, une valeur fixe, ou bien une visualisation graphique de l'évolution de la moyenne ou des valeurs fixes?\"],\n",
    "         \"context\": [\"\"]\n",
    "        },\n",
    "        {\"tag\": \"calories\",\n",
    "         \"patterns\": [\"calorie\",\"calories\",\"kcal\",\"régime\",\"kcals\",\"calorique\"],\n",
    "         \"responses\": [\"Pour vous apporter la réponse attendue, je vais avoir besoin de connaitre quelques informations. Veuillez m'indiquer la période voulue avec une date de début et date de fin (en comprenant des horaires).\",\"Merci, quel type de demande s'agit-il? Une moyenne, une valeur fixe, ou bien une visualisation graphique de l'évolution de la moyenne ou des valeurs fixes?\"],\n",
    "         \"context\": [\"\"]\n",
    "        },\n",
    "        {\"tag\": \"IMC\",\n",
    "         \"patterns\": [\"IMC\", \"masse corporelle\",\"poids\",\"kg\"],\n",
    "         \"responses\": [\"Pour vous apporter la réponse attendue, je vais avoir besoin de connaitre quelques informations. Veuillez m'indiquer la période voulue avec une date de début et date de fin (en comprenant des horaires).\",\"Merci, quel type de demande s'agit-il? Une moyenne, une valeur fixe, ou bien une visualisation graphique de l'évolution de la moyenne ou des valeurs fixes?\"],\n",
    "         \"context\": [\"\"]\n",
    "        },\n",
    "        {\"tag\": \"informations\",\n",
    "         \"patterns\": [\"informations\", \"types\", \"infos\",\"m'aider\"],\n",
    "         \"responses\": [\"Je suis apte à vous fournir des informations précises sur les données de votre montre. Je pourrais ainsi vous renseigner sur votre VMA, votre rythme cardiaque, votre température, votre IMC, votre nombre de pas, votre pression sanguine et vos calories. Je serais en mesure de vous conseiller et d'apporter des analyses précises sur vos informations. Pour ce faire je pourrais vous fournir des analyses telles que des valeurs fixes, des moyennes ou bien encore des graphiques d'évolutions de vos moyennes et/ou valeurs fixes pour une certaine période. \"],\n",
    "         \"context\": [\"\"]\n",
    "        },\n",
    "        {\"tag\": \"insultes\",\n",
    "         \"patterns\": [\"salope\", \"fdp\", \"connard\",\"pute\",\"enflure\",\"débile\",\"con\",\"couillon\"],\n",
    "         \"responses\": [\"Veuillez éviter de m'insulter, je ne suis pas un robot !\",\"Merci pour vos insultes, votre adresse IP a été communiqué aux services appropriés :)\",\"Décidément, le langage n'est pas votre fort...\"],\n",
    "         \"context\": [\"\"]\n",
    "        },\n",
    "        {\"tag\": \"erreur\",\n",
    "         \"patterns\": [],\n",
    "         \"responses\": [\"Pourriez vous reformuler?\", \"Désolé je n'ai pas compris...\"],\n",
    "         \"context\": [\"\"]\n",
    "        }\n",
    "   ]\n",
    "}\n",
    "with open('intents.txt', 'w') as outfile:\n",
    "    json.dump(data, outfile)"
   ]
  },
  {
   "cell_type": "markdown",
   "metadata": {},
   "source": [
    "Quand l'utilisateur choisira un tag qui demande des réponses précises, on fera un if dans le code, et on demandera spécifiquement les paramètres requis (jours, heures etc...), puis une fois la requête retournée, on pourra reprendre la discussion normale. A faire : enlever les mots commun du genre \"mon\", \"ma\", \"et\" etc..."
   ]
  },
  {
   "cell_type": "code",
   "execution_count": 1,
   "metadata": {},
   "outputs": [],
   "source": [
    "liste = []\n",
    "liste.append({\"intent\": \"erreur\", \"probability\": \"1\"})"
   ]
  },
  {
   "cell_type": "code",
   "execution_count": 2,
   "metadata": {},
   "outputs": [
    {
     "data": {
      "text/plain": [
       "[{'intent': 'erreur', 'probability': '1'}]"
      ]
     },
     "execution_count": 2,
     "metadata": {},
     "output_type": "execute_result"
    }
   ],
   "source": [
    "liste"
   ]
  },
  {
   "cell_type": "code",
   "execution_count": 4,
   "metadata": {},
   "outputs": [
    {
     "data": {
      "text/plain": [
       "'erreur'"
      ]
     },
     "execution_count": 4,
     "metadata": {},
     "output_type": "execute_result"
    }
   ],
   "source": [
    "liste[0]['intent']"
   ]
  },
  {
   "cell_type": "code",
   "execution_count": null,
   "metadata": {},
   "outputs": [],
   "source": []
  }
 ],
 "metadata": {
  "kernelspec": {
   "display_name": "Python 3",
   "language": "python",
   "name": "python3"
  },
  "language_info": {
   "codemirror_mode": {
    "name": "ipython",
    "version": 3
   },
   "file_extension": ".py",
   "mimetype": "text/x-python",
   "name": "python",
   "nbconvert_exporter": "python",
   "pygments_lexer": "ipython3",
   "version": "3.7.4"
  }
 },
 "nbformat": 4,
 "nbformat_minor": 2
}
